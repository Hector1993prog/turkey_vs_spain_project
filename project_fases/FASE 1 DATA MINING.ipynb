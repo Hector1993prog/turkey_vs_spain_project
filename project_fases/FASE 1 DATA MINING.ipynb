{
 "cells": [
  {
   "cell_type": "markdown",
   "id": "e8f20319",
   "metadata": {},
   "source": [
    "# FASE 1 DATA MINING"
   ]
  },
  {
   "cell_type": "markdown",
   "id": "cbb1162f",
   "metadata": {},
   "source": [
    "## Índice\n",
    "\n",
    "### 1.Introducción, hipótesis de trabajo y objetivos.\n",
    "\n",
    "### 2.Fase 1: Minería de datos\n",
    "\n",
    "    2.1. IPC español y turco (Selenium)\n",
    "    2.2. Valores de la Lira y el euro en la década 2011-2021(API)\n",
    "    2.3. Índice de democracia (selenium)\n",
    "    \n",
    "### 3.Fase 2: Limpieza y creación de la base de datos. (En el siguiente archivo)\n",
    "\n",
    "# ---------------------------------------------------------------------------------------------------------------\n",
    "\n",
    "\n",
    "\n",
    "\n",
    "    "
   ]
  },
  {
   "cell_type": "markdown",
   "id": "f2b5de4c",
   "metadata": {},
   "source": [
    "## 1. Introducción, hipótesis de trabajo y objetivos.\n",
    "\n",
    "España y Turquía representan dos extremos del Mediterráneo que han tenido desarrollos debido a sus contextos económicos y culturales.\n",
    "\n",
    "No obstante, queremos comprobar si existe una relación entre manejo de las políticas económicas, la devaluación del valor\n",
    "de la moneda y el índice de democracia de ambos países.\n",
    "\n",
    "En este caso nuestra hipótesis parte de que, si hay una decrecimiento y recesión económicas, debe haber un cambio en los valores\n",
    "del índice de democracia. Por tanto, nos permitirá analizar los datos dados y comprobar si estos están más influenciados por la política económica interior o, en cambio, existen eventos internacionales que que perjudican las democracias en mayor o menor medida.\n",
    "\n",
    "Tenemos que recordar que compramos dos países que han tenido recorridos histórcios muy distintos. España es una democracia imperfecta dentro del contesto macroeconómico de la UE, mientras que Turquía está transitando desde un régimen republicano fuértemente impulsado por las ideas del Kemalismo, a un régimen presidencialista de tipo mixto, en el que la presidencia está asumiendo papeles y funciones de los otros poderes.\n",
    "\n",
    "Del mismo modo, económicamente, España depende de las decisiones del BCE en lo relativo a sus políticas económicas de tipo macro. En el otro lado de la ecuación, Turquía posee control pleno sobre su divisa.\n",
    "\n",
    "Culturalmente, nos encontramos con dos sociedades avanzadas que, al margen de sus diferencias, tienen unos niveles de consumo aceptables.\n",
    "\n",
    "### Partiendo de la necesidad de comparar dos países muy dispares, hemos encontrado los siguientes elementos para comprobar esta hipótesis:\n",
    "\n",
    "1.El Índice de precios al consumo, que siempre es un indicador valioso de las dificultades que atraviesa una sociedad para\n",
    "proveerse de bienes y servicios.\n",
    "\n",
    "2.Los ratios de cambio en el valor de la moneda: Una variabilidad alta o una estabilidad de la moneda (el euro frente a la\n",
    "lira turca) nos dará una clave de cómo la política del Banco Central Europeo difiere de la del Banco de Turquía a la hora\n",
    "de afrontar los cambios económicos.\n",
    "\n",
    "3.El Índice democrático: En este caso, es esencial ver si la caída o mejora de la economía repercute de forma esencial\n",
    "en las reformas políticas y libertades. O si, en cambio es al revés.\n",
    "\n",
    "Para realizar esta comparativa, nos hemos propuesto realizar una serie histórica desde el año 2011 al 2021, para tener una\n",
    "perspectiva diacrónica de los cambios a nivel macroeconómico y su correlación con las libertades y derechos de la sociedad\n",
    "española y turca a lo largo de la mismo.\n",
    "\n",
    "\n",
    "Es por ello que necesitamos obtener dichas medidas macroeconómicas mediante dos técnicas de vital importancia en el quehacer\n",
    "del analísta de datos: el uso de APIs, y el data mining.\n",
    "\n",
    "\n",
    "### Las fuentes que hemos usado son las siguientes:\n",
    "\n",
    "1.IPC turco y español:\n",
    "https://www.inflation.eu/es/tasas-de-inflacion/espana/inflacion-historica/ipc-inflacion-espana.aspx\n",
    "https://www.inflation.eu/es/tasas-de-inflacion/turquia/inflacion-historica/ipc-inflacion-turquia.aspx\n",
    "\n",
    "2.Ratio de cambios euro/lira \n",
    "API: https://exchangeratesapi.io/documentation/\n",
    "\n",
    "3.Índice de democracia:\n",
    "https://en.wikipedia.org/wiki/Democracy_Index\n",
    "\n",
    "### Nuestro objetivo general:\n",
    "\n",
    "Realizar una tabla comparativa con los valores de cada uno de los países para después combinar ambas, haciendo así un análisis individual y comparativo a la hora de ver las diferencias y las similitudes, así como los \n",
    "cambios y permanencias a nivel diacrónico.\n",
    "\n"
   ]
  },
  {
   "cell_type": "markdown",
   "id": "60563ba8",
   "metadata": {},
   "source": [
    "## 2. Fase 1: Minería de datos\n",
    "\n",
    "En esta fase nos vamos a centrar en conseguir los datos dados en cada una de las webs para dejarlos listos para su inserción posterior en el data frame de cada país. Como cada variable no se queda cargada, vamos a guardarlas todas en diversos archivos csv para su posterior uso en la fase del data frame."
   ]
  },
  {
   "cell_type": "markdown",
   "id": "1ba5f2cf",
   "metadata": {},
   "source": [
    "### LIBRERÍAS Y FUNCIONES QUE VAMOS A REQUERIR"
   ]
  },
  {
   "cell_type": "code",
   "execution_count": 1,
   "id": "67a25c99",
   "metadata": {},
   "outputs": [],
   "source": [
    "import json\n",
    "import requests as rq\n",
    "from requests.structures import CaseInsensitiveDict\n",
    "from selenium import webdriver\n",
    "from webdriver_manager.chrome import ChromeDriverManager\n",
    "from selenium.webdriver.common.by import By\n",
    "import csv\n",
    "from load import *\n",
    "\n",
    "\n"
   ]
  },
  {
   "cell_type": "markdown",
   "id": "24955edd",
   "metadata": {},
   "source": [
    "### 2.1. IPC español y turco (Selenium)"
   ]
  },
  {
   "cell_type": "code",
   "execution_count": 2,
   "id": "f4e89b96",
   "metadata": {},
   "outputs": [
    {
     "name": "stderr",
     "output_type": "stream",
     "text": [
      "C:\\Temp\\ipykernel_9040\\352729554.py:4: DeprecationWarning: executable_path has been deprecated, please pass in a Service object\n",
      "  driver=webdriver.Chrome(PATH)\n"
     ]
    }
   ],
   "source": [
    "#TURQUÍA\n",
    "URL_TURK= 'https://www.inflation.eu/es/tasas-de-inflacion/turquia/inflacion-historica/ipc-inflacion-turquia.aspx'\n",
    "PATH=ChromeDriverManager().install() \n",
    "driver=webdriver.Chrome(PATH)\n",
    "driver.get(URL_TURK)\n"
   ]
  },
  {
   "cell_type": "code",
   "execution_count": 3,
   "id": "3651141e",
   "metadata": {},
   "outputs": [
    {
     "data": {
      "text/plain": [
       "' IPC Turquía 2021 36,08 %   IPC Turquía 2011 10,45 % '"
      ]
     },
     "execution_count": 3,
     "metadata": {},
     "output_type": "execute_result"
    }
   ],
   "source": [
    "driver.find_elements(By.CLASS_NAME, 'tabledata1')[0].text"
   ]
  },
  {
   "cell_type": "code",
   "execution_count": 4,
   "id": "f11737b7",
   "metadata": {},
   "outputs": [],
   "source": [
    "IPC_TRU1= driver.find_elements(By.CLASS_NAME, 'tabledata1')"
   ]
  },
  {
   "cell_type": "code",
   "execution_count": 5,
   "id": "73f68edb",
   "metadata": {},
   "outputs": [],
   "source": [
    "IPC_TURK_lst1= [i.text for i in IPC_TRU1]\n",
    "IPC_TURK_clean1=[i for i in IPC_TURK_lst1[0:5]]\n"
   ]
  },
  {
   "cell_type": "code",
   "execution_count": 6,
   "id": "5d1615cf",
   "metadata": {},
   "outputs": [],
   "source": [
    "IPC_TRU2= driver.find_elements(By.CLASS_NAME, 'tabledata2')"
   ]
  },
  {
   "cell_type": "code",
   "execution_count": 7,
   "id": "6b6ff189",
   "metadata": {},
   "outputs": [],
   "source": [
    "IPC_TURK_lst2=[i.text for i in IPC_TRU2 ]\n",
    "IPC_TURK_clean2= [i for i in IPC_TURK_lst2[0:5]]"
   ]
  },
  {
   "cell_type": "code",
   "execution_count": 8,
   "id": "afb043ad",
   "metadata": {},
   "outputs": [],
   "source": [
    "IPC_TURK_COMPLETE= [i.strip().split('   ') for l in zip(IPC_TURK_clean1, IPC_TURK_clean2)for i in l]\n",
    "IPC_TURK_COMPLETE1=[d for l in IPC_TURK_COMPLETE for d in l ]\n",
    "IPC_TURK_COMPLETE1.sort(reverse=True)\n",
    "ipc_Turquia= IPC_TURK_COMPLETE1[0:11]"
   ]
  },
  {
   "cell_type": "code",
   "execution_count": 9,
   "id": "06915870",
   "metadata": {
    "scrolled": true
   },
   "outputs": [
    {
     "data": {
      "text/plain": [
       "['IPC Turquía 2021 36,08 %',\n",
       " 'IPC Turquía 2020 14,60 %',\n",
       " 'IPC Turquía 2019 11,84 %',\n",
       " 'IPC Turquía 2018 20,30 %',\n",
       " 'IPC Turquía 2017 11,92 %',\n",
       " 'IPC Turquía 2016 8,53 %',\n",
       " 'IPC Turquía 2015 8,81 %',\n",
       " 'IPC Turquía 2014 8,17 %',\n",
       " 'IPC Turquía 2013 7,40 %',\n",
       " 'IPC Turquía 2012 6,16 %',\n",
       " 'IPC Turquía 2011 10,45 %']"
      ]
     },
     "execution_count": 9,
     "metadata": {},
     "output_type": "execute_result"
    }
   ],
   "source": [
    "ipc_Turquia"
   ]
  },
  {
   "cell_type": "code",
   "execution_count": 10,
   "id": "739948d5",
   "metadata": {},
   "outputs": [],
   "source": [
    "writelstcsv([str(i) for i in ipc_Turquia],'turk_ipc.csv')"
   ]
  },
  {
   "cell_type": "code",
   "execution_count": 11,
   "id": "4981445f",
   "metadata": {},
   "outputs": [],
   "source": [
    "driver.quit()"
   ]
  },
  {
   "cell_type": "code",
   "execution_count": 12,
   "id": "fe08b109",
   "metadata": {},
   "outputs": [
    {
     "name": "stderr",
     "output_type": "stream",
     "text": [
      "C:\\Temp\\ipykernel_9040\\3741799584.py:3: DeprecationWarning: executable_path has been deprecated, please pass in a Service object\n",
      "  driver=webdriver.Chrome(PATH)\n"
     ]
    }
   ],
   "source": [
    "#ESPAÑA\n",
    "URL_SP='https://www.inflation.eu/es/tasas-de-inflacion/espana/inflacion-historica/ipc-inflacion-espana.aspx'\n",
    "driver=webdriver.Chrome(PATH)\n",
    "driver.get(URL_SP)"
   ]
  },
  {
   "cell_type": "code",
   "execution_count": 13,
   "id": "4a23b7e3",
   "metadata": {},
   "outputs": [],
   "source": [
    "SP=driver.find_elements(By.CLASS_NAME,'tabledata1')\n",
    "SP2=driver.find_elements(By.CLASS_NAME,'tabledata2')"
   ]
  },
  {
   "cell_type": "code",
   "execution_count": 14,
   "id": "4c412df7",
   "metadata": {},
   "outputs": [],
   "source": [
    "SPls=[i.text for i in SP[0:5]]\n",
    "SPls2=[i.text for i in SP2[0:5]]"
   ]
  },
  {
   "cell_type": "code",
   "execution_count": 15,
   "id": "371f70b3",
   "metadata": {
    "scrolled": true
   },
   "outputs": [
    {
     "data": {
      "text/plain": [
       "['IPC España 2021 6,55 %',\n",
       " 'IPC España 2020 -0,53 %',\n",
       " 'IPC España 2019 0,79 %',\n",
       " 'IPC España 2018 1,18 %',\n",
       " 'IPC España 2017 1,11 %',\n",
       " 'IPC España 2016 1,57 %',\n",
       " 'IPC España 2015 0,02 %',\n",
       " 'IPC España 2014 -1,04 %',\n",
       " 'IPC España 2013 0,25 %',\n",
       " 'IPC España 2012 2,87 %',\n",
       " 'IPC España 2011 2,38 %']"
      ]
     },
     "execution_count": 15,
     "metadata": {},
     "output_type": "execute_result"
    }
   ],
   "source": [
    "SPcomb= [i.strip().split('   ') for a in zip(SPls, SPls2)for i in a]\n",
    "SPsort= [i for a in SPcomb for i in a]\n",
    "SPsort.sort(reverse=True)\n",
    "ipc_españa=SPsort[0:11]\n",
    "ipc_españa"
   ]
  },
  {
   "cell_type": "code",
   "execution_count": 16,
   "id": "e7ae7104",
   "metadata": {},
   "outputs": [],
   "source": [
    "writelstcsv([str(i) for i in ipc_españa],'sp_ipc.csv')"
   ]
  },
  {
   "cell_type": "code",
   "execution_count": 17,
   "id": "fff7f0af",
   "metadata": {},
   "outputs": [],
   "source": [
    "driver.quit()"
   ]
  },
  {
   "cell_type": "markdown",
   "id": "ac44ddbc",
   "metadata": {},
   "source": [
    "### 2.1. Valores de la Lira y el euro en la década 2011-2021(API)\n",
    "\n",
    "En este apartado recurrimos a una API de valores monetarios. Al no tener subscripción de pago a la misma, tuvimos que realizar la extración  del valor por año mediante sucesivas búsquedas. La primera corresponde a Turquía, mientras que la segunda es la española."
   ]
  },
  {
   "cell_type": "code",
   "execution_count": 18,
   "id": "6feb1fd1",
   "metadata": {},
   "outputs": [],
   "source": [
    "#ESPAÑA\n",
    "\n",
    "URL_CURRENCY_11='https://api.currencyapi.com/v3/historical?apikey=DhPCbko5L9svm4OuWtlP73jgHOvW4JSbnK3ZuiLV&currencies=EUR&base_currency=TRY&date=2011-01-01'"
   ]
  },
  {
   "cell_type": "code",
   "execution_count": 19,
   "id": "27d7e3e8",
   "metadata": {},
   "outputs": [],
   "source": [
    "response=rq.get(URL_CURRENCY_11).json()"
   ]
  },
  {
   "cell_type": "code",
   "execution_count": 20,
   "id": "2eed4166",
   "metadata": {},
   "outputs": [
    {
     "data": {
      "text/plain": [
       "{'meta': {'last_updated_at': '2011-01-01T23:59:59Z'},\n",
       " 'data': {'EUR': {'code': 'EUR', 'value': 0.485032}}}"
      ]
     },
     "execution_count": 20,
     "metadata": {},
     "output_type": "execute_result"
    }
   ],
   "source": [
    "response"
   ]
  },
  {
   "cell_type": "code",
   "execution_count": 21,
   "id": "59956229",
   "metadata": {},
   "outputs": [],
   "source": [
    "TURK_vs_EUR_2011= response['data']['EUR']"
   ]
  },
  {
   "cell_type": "code",
   "execution_count": 22,
   "id": "6dd09d93",
   "metadata": {},
   "outputs": [],
   "source": [
    "URL_CURRENCY_12='https://api.currencyapi.com/v3/historical?apikey=DhPCbko5L9svm4OuWtlP73jgHOvW4JSbnK3ZuiLV&currencies=EUR&base_currency=TRY&date=2012-01-01'"
   ]
  },
  {
   "cell_type": "code",
   "execution_count": 23,
   "id": "2733738c",
   "metadata": {},
   "outputs": [],
   "source": [
    " response=rq.get(URL_CURRENCY_12).json()"
   ]
  },
  {
   "cell_type": "code",
   "execution_count": 24,
   "id": "2e007520",
   "metadata": {},
   "outputs": [
    {
     "data": {
      "text/plain": [
       "{'code': 'EUR', 'value': 0.408758}"
      ]
     },
     "execution_count": 24,
     "metadata": {},
     "output_type": "execute_result"
    }
   ],
   "source": [
    "response['data']['EUR']"
   ]
  },
  {
   "cell_type": "code",
   "execution_count": 25,
   "id": "785d8b86",
   "metadata": {},
   "outputs": [],
   "source": [
    "TURK_vs_EUR_2012= response['data']['EUR']"
   ]
  },
  {
   "cell_type": "code",
   "execution_count": 26,
   "id": "66663c9e",
   "metadata": {},
   "outputs": [],
   "source": [
    "URL_CURRENCY_13='https://api.currencyapi.com/v3/historical?apikey=DhPCbko5L9svm4OuWtlP73jgHOvW4JSbnK3ZuiLV&currencies=EUR&base_currency=TRY&date=2013-01-01'"
   ]
  },
  {
   "cell_type": "code",
   "execution_count": 27,
   "id": "e481cc45",
   "metadata": {},
   "outputs": [],
   "source": [
    " response=rq.get(URL_CURRENCY_13).json()"
   ]
  },
  {
   "cell_type": "code",
   "execution_count": 28,
   "id": "7ba5c013",
   "metadata": {},
   "outputs": [
    {
     "data": {
      "text/plain": [
       "{'code': 'EUR', 'value': 0.424308}"
      ]
     },
     "execution_count": 28,
     "metadata": {},
     "output_type": "execute_result"
    }
   ],
   "source": [
    "response['data']['EUR']"
   ]
  },
  {
   "cell_type": "code",
   "execution_count": 29,
   "id": "6f54ab47",
   "metadata": {},
   "outputs": [],
   "source": [
    "TURK_vs_EUR_2013= response['data']['EUR']"
   ]
  },
  {
   "cell_type": "code",
   "execution_count": 30,
   "id": "4db06721",
   "metadata": {},
   "outputs": [
    {
     "data": {
      "text/plain": [
       "{'code': 'EUR', 'value': 0.338909}"
      ]
     },
     "execution_count": 30,
     "metadata": {},
     "output_type": "execute_result"
    }
   ],
   "source": [
    "URL_CURRENCY_14='https://api.currencyapi.com/v3/historical?apikey=DhPCbko5L9svm4OuWtlP73jgHOvW4JSbnK3ZuiLV&currencies=EUR&base_currency=TRY&date=2014-01-01'\n",
    "response=rq.get(URL_CURRENCY_14).json()\n",
    "response['data']['EUR']"
   ]
  },
  {
   "cell_type": "code",
   "execution_count": 31,
   "id": "9d50f4db",
   "metadata": {},
   "outputs": [],
   "source": [
    "TURK_vs_EUR_2014= response['data']['EUR']"
   ]
  },
  {
   "cell_type": "code",
   "execution_count": 32,
   "id": "edd7ecc9",
   "metadata": {},
   "outputs": [
    {
     "data": {
      "text/plain": [
       "{'code': 'EUR', 'value': 0.354253}"
      ]
     },
     "execution_count": 32,
     "metadata": {},
     "output_type": "execute_result"
    }
   ],
   "source": [
    "URL_CURRENCY_15='https://api.currencyapi.com/v3/historical?apikey=DhPCbko5L9svm4OuWtlP73jgHOvW4JSbnK3ZuiLV&currencies=EUR&base_currency=TRY&date=2015-01-01'\n",
    "response=rq.get(URL_CURRENCY_15).json()\n",
    "response['data']['EUR']"
   ]
  },
  {
   "cell_type": "code",
   "execution_count": 33,
   "id": "d0a6b1cc",
   "metadata": {},
   "outputs": [],
   "source": [
    "TURK_vs_EUR_2015= response['data']['EUR']"
   ]
  },
  {
   "cell_type": "code",
   "execution_count": 34,
   "id": "56c5d006",
   "metadata": {},
   "outputs": [
    {
     "data": {
      "text/plain": [
       "{'code': 'EUR', 'value': 0.315736}"
      ]
     },
     "execution_count": 34,
     "metadata": {},
     "output_type": "execute_result"
    }
   ],
   "source": [
    "URL_CURRENCY_16='https://api.currencyapi.com/v3/historical?apikey=DhPCbko5L9svm4OuWtlP73jgHOvW4JSbnK3ZuiLV&currencies=EUR&base_currency=TRY&date=2016-01-01'\n",
    "response=rq.get(URL_CURRENCY_16).json()\n",
    "response['data']['EUR']"
   ]
  },
  {
   "cell_type": "code",
   "execution_count": 35,
   "id": "438c3763",
   "metadata": {},
   "outputs": [],
   "source": [
    "TURK_vs_EUR_2016= response['data']['EUR']"
   ]
  },
  {
   "cell_type": "code",
   "execution_count": 36,
   "id": "52477581",
   "metadata": {},
   "outputs": [
    {
     "data": {
      "text/plain": [
       "{'code': 'EUR', 'value': 0.268494}"
      ]
     },
     "execution_count": 36,
     "metadata": {},
     "output_type": "execute_result"
    }
   ],
   "source": [
    "URL_CURRENCY_17='https://api.currencyapi.com/v3/historical?apikey=DhPCbko5L9svm4OuWtlP73jgHOvW4JSbnK3ZuiLV&currencies=EUR&base_currency=TRY&date=2017-01-01'\n",
    "response=rq.get(URL_CURRENCY_17).json()\n",
    "response['data']['EUR']"
   ]
  },
  {
   "cell_type": "code",
   "execution_count": 37,
   "id": "db0754e1",
   "metadata": {},
   "outputs": [],
   "source": [
    "TURK_vs_EUR_2017= response['data']['EUR']"
   ]
  },
  {
   "cell_type": "code",
   "execution_count": 38,
   "id": "187ac821",
   "metadata": {},
   "outputs": [
    {
     "data": {
      "text/plain": [
       "{'code': 'EUR', 'value': 0.219473}"
      ]
     },
     "execution_count": 38,
     "metadata": {},
     "output_type": "execute_result"
    }
   ],
   "source": [
    "URL_CURRENCY_18='https://api.currencyapi.com/v3/historical?apikey=DhPCbko5L9svm4OuWtlP73jgHOvW4JSbnK3ZuiLV&currencies=EUR&base_currency=TRY&date=2018-01-01'\n",
    "response=rq.get(URL_CURRENCY_18).json()\n",
    "response['data']['EUR']"
   ]
  },
  {
   "cell_type": "code",
   "execution_count": 39,
   "id": "0e16a797",
   "metadata": {},
   "outputs": [],
   "source": [
    "TURK_vs_EUR_2018= response['data']['EUR']"
   ]
  },
  {
   "cell_type": "code",
   "execution_count": 40,
   "id": "3483cf50",
   "metadata": {},
   "outputs": [
    {
     "data": {
      "text/plain": [
       "{'code': 'EUR', 'value': 0.164947}"
      ]
     },
     "execution_count": 40,
     "metadata": {},
     "output_type": "execute_result"
    }
   ],
   "source": [
    "URL_CURRENCY_19='https://api.currencyapi.com/v3/historical?apikey=DhPCbko5L9svm4OuWtlP73jgHOvW4JSbnK3ZuiLV&currencies=EUR&base_currency=TRY&date=2019-01-01'\n",
    "response=rq.get(URL_CURRENCY_19).json()\n",
    "response['data']['EUR']"
   ]
  },
  {
   "cell_type": "code",
   "execution_count": 41,
   "id": "a2f19e38",
   "metadata": {},
   "outputs": [],
   "source": [
    "TURK_vs_EUR_2019= response['data']['EUR']"
   ]
  },
  {
   "cell_type": "code",
   "execution_count": 42,
   "id": "23a30c29",
   "metadata": {},
   "outputs": [
    {
     "data": {
      "text/plain": [
       "{'code': 'EUR', 'value': 0.149884}"
      ]
     },
     "execution_count": 42,
     "metadata": {},
     "output_type": "execute_result"
    }
   ],
   "source": [
    "URL_CURRENCY_20='https://api.currencyapi.com/v3/historical?apikey=DhPCbko5L9svm4OuWtlP73jgHOvW4JSbnK3ZuiLV&currencies=EUR&base_currency=TRY&date=2020-01-01'\n",
    "response=rq.get(URL_CURRENCY_20).json()\n",
    "response['data']['EUR']"
   ]
  },
  {
   "cell_type": "code",
   "execution_count": 43,
   "id": "b98fa412",
   "metadata": {},
   "outputs": [],
   "source": [
    "TURK_vs_EUR_2020= response['data']['EUR']"
   ]
  },
  {
   "cell_type": "code",
   "execution_count": 44,
   "id": "0bb691d7",
   "metadata": {},
   "outputs": [
    {
     "data": {
      "text/plain": [
       "{'code': 'EUR', 'value': 0.110433}"
      ]
     },
     "execution_count": 44,
     "metadata": {},
     "output_type": "execute_result"
    }
   ],
   "source": [
    "URL_CURRENCY_21='https://api.currencyapi.com/v3/historical?apikey=DhPCbko5L9svm4OuWtlP73jgHOvW4JSbnK3ZuiLV&currencies=EUR&base_currency=TRY&date=2021-01-01'\n",
    "response=rq.get(URL_CURRENCY_21).json()\n",
    "response['data']['EUR']"
   ]
  },
  {
   "cell_type": "code",
   "execution_count": 45,
   "id": "e27dda89",
   "metadata": {},
   "outputs": [],
   "source": [
    "TURK_vs_EUR_2021= response['data']['EUR']"
   ]
  },
  {
   "cell_type": "code",
   "execution_count": 46,
   "id": "60e1168b",
   "metadata": {},
   "outputs": [
    {
     "data": {
      "text/plain": [
       "0.110433"
      ]
     },
     "execution_count": 46,
     "metadata": {},
     "output_type": "execute_result"
    }
   ],
   "source": [
    "TURK_vs_EUR_2021['value']"
   ]
  },
  {
   "cell_type": "code",
   "execution_count": 47,
   "id": "55aad8ba",
   "metadata": {},
   "outputs": [],
   "source": [
    "eur_currency_2021_2011= [TURK_vs_EUR_2021['value'],TURK_vs_EUR_2020['value'],TURK_vs_EUR_2019['value'],TURK_vs_EUR_2018['value'],\\\n",
    "                             TURK_vs_EUR_2017['value'], TURK_vs_EUR_2016['value'], TURK_vs_EUR_2015['value'], TURK_vs_EUR_2014['value'],\\\n",
    "                             TURK_vs_EUR_2013['value'],TURK_vs_EUR_2012['value'],TURK_vs_EUR_2011['value']]"
   ]
  },
  {
   "cell_type": "code",
   "execution_count": 48,
   "id": "71eeb4e5",
   "metadata": {},
   "outputs": [],
   "source": [
    "writelstcsv([str(i) for i in eur_currency_2021_2011],'eu_try_currency.csv')"
   ]
  },
  {
   "cell_type": "code",
   "execution_count": 49,
   "id": "68f7b607",
   "metadata": {},
   "outputs": [
    {
     "data": {
      "text/plain": [
       "{'code': 'TRY', 'value': 2.061718}"
      ]
     },
     "execution_count": 49,
     "metadata": {},
     "output_type": "execute_result"
    }
   ],
   "source": [
    "#TURQUIA\n",
    "URL_CURRENCY_11='https://api.currencyapi.com/v3/historical?apikey=DhPCbko5L9svm4OuWtlP73jgHOvW4JSbnK3ZuiLV&currencies=TRY&base_currency=EUR&date=2011-01-01'\n",
    "response=rq.get(URL_CURRENCY_11).json()\n",
    "response['data']['TRY']"
   ]
  },
  {
   "cell_type": "code",
   "execution_count": 50,
   "id": "21f79b10",
   "metadata": {},
   "outputs": [],
   "source": [
    "EUR_vs_TURK_2011= response['data']['TRY']"
   ]
  },
  {
   "cell_type": "code",
   "execution_count": 51,
   "id": "883b252e",
   "metadata": {},
   "outputs": [
    {
     "data": {
      "text/plain": [
       "{'code': 'TRY', 'value': 2.446434}"
      ]
     },
     "execution_count": 51,
     "metadata": {},
     "output_type": "execute_result"
    }
   ],
   "source": [
    "URL_CURRENCY_12='https://api.currencyapi.com/v3/historical?apikey=DhPCbko5L9svm4OuWtlP73jgHOvW4JSbnK3ZuiLV&currencies=TRY&base_currency=EUR&date=2012-01-01'\n",
    "response=rq.get(URL_CURRENCY_12).json()\n",
    "response['data']['TRY']"
   ]
  },
  {
   "cell_type": "code",
   "execution_count": 52,
   "id": "65ff57cc",
   "metadata": {},
   "outputs": [],
   "source": [
    "EUR_vs_TURK_2012= response['data']['TRY']"
   ]
  },
  {
   "cell_type": "code",
   "execution_count": 53,
   "id": "ff6204a2",
   "metadata": {},
   "outputs": [
    {
     "data": {
      "text/plain": [
       "{'code': 'TRY', 'value': 2.356776}"
      ]
     },
     "execution_count": 53,
     "metadata": {},
     "output_type": "execute_result"
    }
   ],
   "source": [
    "URL_CURRENCY_13='https://api.currencyapi.com/v3/historical?apikey=DhPCbko5L9svm4OuWtlP73jgHOvW4JSbnK3ZuiLV&currencies=TRY&base_currency=EUR&date=2013-01-01'\n",
    "response=rq.get(URL_CURRENCY_13).json()\n",
    "response['data']['TRY']"
   ]
  },
  {
   "cell_type": "code",
   "execution_count": 54,
   "id": "e9e24131",
   "metadata": {},
   "outputs": [],
   "source": [
    "EUR_vs_TURK_2013= response['data']['TRY']"
   ]
  },
  {
   "cell_type": "code",
   "execution_count": 55,
   "id": "c6663dbb",
   "metadata": {},
   "outputs": [
    {
     "data": {
      "text/plain": [
       "{'code': 'TRY', 'value': 2.950645}"
      ]
     },
     "execution_count": 55,
     "metadata": {},
     "output_type": "execute_result"
    }
   ],
   "source": [
    "URL_CURRENCY_14='https://api.currencyapi.com/v3/historical?apikey=DhPCbko5L9svm4OuWtlP73jgHOvW4JSbnK3ZuiLV&currencies=TRY&base_currency=EUR&date=2014-01-01'\n",
    "response=rq.get(URL_CURRENCY_14).json()\n",
    "response['data']['TRY']"
   ]
  },
  {
   "cell_type": "code",
   "execution_count": 56,
   "id": "b3f0bac0",
   "metadata": {},
   "outputs": [],
   "source": [
    "EUR_vs_TURK_2014= response['data']['TRY']"
   ]
  },
  {
   "cell_type": "code",
   "execution_count": 57,
   "id": "723805b7",
   "metadata": {},
   "outputs": [
    {
     "data": {
      "text/plain": [
       "{'code': 'TRY', 'value': 2.822841}"
      ]
     },
     "execution_count": 57,
     "metadata": {},
     "output_type": "execute_result"
    }
   ],
   "source": [
    "URL_CURRENCY_15='https://api.currencyapi.com/v3/historical?apikey=DhPCbko5L9svm4OuWtlP73jgHOvW4JSbnK3ZuiLV&currencies=TRY&base_currency=EUR&date=2015-01-01'\n",
    "response=rq.get(URL_CURRENCY_15).json()\n",
    "response['data']['TRY']"
   ]
  },
  {
   "cell_type": "code",
   "execution_count": 58,
   "id": "35f60d2a",
   "metadata": {},
   "outputs": [],
   "source": [
    "EUR_vs_TURK_2015= response['data']['TRY']"
   ]
  },
  {
   "cell_type": "code",
   "execution_count": 59,
   "id": "2e4239f7",
   "metadata": {},
   "outputs": [
    {
     "data": {
      "text/plain": [
       "{'code': 'TRY', 'value': 3.167202}"
      ]
     },
     "execution_count": 59,
     "metadata": {},
     "output_type": "execute_result"
    }
   ],
   "source": [
    "URL_CURRENCY_16='https://api.currencyapi.com/v3/historical?apikey=DhPCbko5L9svm4OuWtlP73jgHOvW4JSbnK3ZuiLV&currencies=TRY&base_currency=EUR&date=2016-01-01'\n",
    "response=rq.get(URL_CURRENCY_16).json()\n",
    "response['data']['TRY']"
   ]
  },
  {
   "cell_type": "code",
   "execution_count": 60,
   "id": "9d247afc",
   "metadata": {},
   "outputs": [],
   "source": [
    "EUR_vs_TURK_2016= response['data']['TRY']"
   ]
  },
  {
   "cell_type": "code",
   "execution_count": 61,
   "id": "5d526a56",
   "metadata": {},
   "outputs": [
    {
     "data": {
      "text/plain": [
       "{'code': 'TRY', 'value': 3.724482}"
      ]
     },
     "execution_count": 61,
     "metadata": {},
     "output_type": "execute_result"
    }
   ],
   "source": [
    "URL_CURRENCY_17='https://api.currencyapi.com/v3/historical?apikey=DhPCbko5L9svm4OuWtlP73jgHOvW4JSbnK3ZuiLV&currencies=TRY&base_currency=EUR&date=2017-01-01'\n",
    "response=rq.get(URL_CURRENCY_17).json()\n",
    "response['data']['TRY']"
   ]
  },
  {
   "cell_type": "code",
   "execution_count": 62,
   "id": "f98c5785",
   "metadata": {},
   "outputs": [],
   "source": [
    "EUR_vs_TURK_2017= response['data']['TRY']"
   ]
  },
  {
   "cell_type": "code",
   "execution_count": 63,
   "id": "1ecbdc91",
   "metadata": {},
   "outputs": [
    {
     "data": {
      "text/plain": [
       "{'code': 'TRY', 'value': 4.556361}"
      ]
     },
     "execution_count": 63,
     "metadata": {},
     "output_type": "execute_result"
    }
   ],
   "source": [
    "URL_CURRENCY_18='https://api.currencyapi.com/v3/historical?apikey=DhPCbko5L9svm4OuWtlP73jgHOvW4JSbnK3ZuiLV&currencies=TRY&base_currency=EUR&date=2018-01-01'\n",
    "response=rq.get(URL_CURRENCY_18).json()\n",
    "response['data']['TRY']"
   ]
  },
  {
   "cell_type": "code",
   "execution_count": 64,
   "id": "9dbd6683",
   "metadata": {},
   "outputs": [],
   "source": [
    "EUR_vs_TURK_2018= response['data']['TRY']"
   ]
  },
  {
   "cell_type": "code",
   "execution_count": 65,
   "id": "5ee648cb",
   "metadata": {},
   "outputs": [
    {
     "data": {
      "text/plain": [
       "{'code': 'TRY', 'value': 6.062554}"
      ]
     },
     "execution_count": 65,
     "metadata": {},
     "output_type": "execute_result"
    }
   ],
   "source": [
    "URL_CURRENCY_19='https://api.currencyapi.com/v3/historical?apikey=DhPCbko5L9svm4OuWtlP73jgHOvW4JSbnK3ZuiLV&currencies=TRY&base_currency=EUR&date=2019-01-01'\n",
    "response=rq.get(URL_CURRENCY_19).json()\n",
    "response['data']['TRY']"
   ]
  },
  {
   "cell_type": "code",
   "execution_count": 66,
   "id": "54984944",
   "metadata": {},
   "outputs": [],
   "source": [
    "EUR_vs_TURK_2019= response['data']['TRY']"
   ]
  },
  {
   "cell_type": "code",
   "execution_count": 67,
   "id": "996855e7",
   "metadata": {},
   "outputs": [
    {
     "data": {
      "text/plain": [
       "{'code': 'TRY', 'value': 6.671838}"
      ]
     },
     "execution_count": 67,
     "metadata": {},
     "output_type": "execute_result"
    }
   ],
   "source": [
    "URL_CURRENCY_20='https://api.currencyapi.com/v3/historical?apikey=DhPCbko5L9svm4OuWtlP73jgHOvW4JSbnK3ZuiLV&currencies=TRY&base_currency=EUR&date=2020-01-01'\n",
    "response=rq.get(URL_CURRENCY_20).json()\n",
    "response['data']['TRY']"
   ]
  },
  {
   "cell_type": "code",
   "execution_count": 68,
   "id": "8a8991a9",
   "metadata": {},
   "outputs": [],
   "source": [
    "EUR_vs_TURK_2020= response['data']['TRY']"
   ]
  },
  {
   "cell_type": "code",
   "execution_count": 69,
   "id": "c9182a7c",
   "metadata": {},
   "outputs": [
    {
     "data": {
      "text/plain": [
       "{'code': 'TRY', 'value': 9.055228}"
      ]
     },
     "execution_count": 69,
     "metadata": {},
     "output_type": "execute_result"
    }
   ],
   "source": [
    "URL_CURRENCY_21='https://api.currencyapi.com/v3/historical?apikey=DhPCbko5L9svm4OuWtlP73jgHOvW4JSbnK3ZuiLV&currencies=TRY&base_currency=EUR&date=2021-01-01'\n",
    "response=rq.get(URL_CURRENCY_21).json()\n",
    "response['data']['TRY']"
   ]
  },
  {
   "cell_type": "code",
   "execution_count": 70,
   "id": "e51ba249",
   "metadata": {},
   "outputs": [],
   "source": [
    "EUR_vs_TURK_2021= response['data']['TRY']"
   ]
  },
  {
   "cell_type": "code",
   "execution_count": 71,
   "id": "4f271327",
   "metadata": {},
   "outputs": [
    {
     "data": {
      "text/plain": [
       "9.055228"
      ]
     },
     "execution_count": 71,
     "metadata": {},
     "output_type": "execute_result"
    }
   ],
   "source": [
    "EUR_vs_TURK_2021['value']"
   ]
  },
  {
   "cell_type": "code",
   "execution_count": 72,
   "id": "ac29c8e0",
   "metadata": {},
   "outputs": [],
   "source": [
    "turk_eu_2021_2011=[EUR_vs_TURK_2021['value'],EUR_vs_TURK_2020['value'],EUR_vs_TURK_2019['value'],EUR_vs_TURK_2018['value'],\\\n",
    "                  EUR_vs_TURK_2017['value'],EUR_vs_TURK_2016['value'],EUR_vs_TURK_2015['value'],EUR_vs_TURK_2014['value'],\\\n",
    "                  EUR_vs_TURK_2013['value'],EUR_vs_TURK_2012['value'],EUR_vs_TURK_2011['value']]"
   ]
  },
  {
   "cell_type": "code",
   "execution_count": 73,
   "id": "018e9cc7",
   "metadata": {
    "scrolled": true
   },
   "outputs": [
    {
     "data": {
      "text/plain": [
       "[9.055228,\n",
       " 6.671838,\n",
       " 6.062554,\n",
       " 4.556361,\n",
       " 3.724482,\n",
       " 3.167202,\n",
       " 2.822841,\n",
       " 2.950645,\n",
       " 2.356776,\n",
       " 2.446434,\n",
       " 2.061718]"
      ]
     },
     "execution_count": 73,
     "metadata": {},
     "output_type": "execute_result"
    }
   ],
   "source": [
    "turk_eu_2021_2011"
   ]
  },
  {
   "cell_type": "code",
   "execution_count": 74,
   "id": "b4804f19",
   "metadata": {},
   "outputs": [],
   "source": [
    "writelstcsv([str(i) for i in turk_eu_2021_2011],'try_eu_currency.csv')"
   ]
  },
  {
   "cell_type": "markdown",
   "id": "0ac46410",
   "metadata": {},
   "source": [
    "### 2.3. Índice de democracia (selenium)"
   ]
  },
  {
   "cell_type": "code",
   "execution_count": 75,
   "id": "696fb738",
   "metadata": {},
   "outputs": [
    {
     "name": "stderr",
     "output_type": "stream",
     "text": [
      "C:\\Temp\\ipykernel_9040\\4042311406.py:3: DeprecationWarning: executable_path has been deprecated, please pass in a Service object\n",
      "  driver=webdriver.Chrome(URL_DEMOCRACY)\n"
     ]
    }
   ],
   "source": [
    "URL_DEMOCRACY= 'https://en.wikipedia.org/wiki/Democracy_Index'\n",
    "PATH=ChromeDriverManager().install() \n",
    "driver=webdriver.Chrome(URL_DEMOCRACY)\n",
    "driver.get(URL_DEMOCRACY)"
   ]
  },
  {
   "cell_type": "code",
   "execution_count": 76,
   "id": "5fda9b3a",
   "metadata": {},
   "outputs": [],
   "source": [
    "driver.find_elements(By.TAG_NAME, 'tr')[46].text #encontramos que luxemburgo es el 46 en la clase 'tr', ahora solo tenemos que\n",
    "#contar\n",
    "driver.find_elements(By.TAG_NAME, 'tr')[51].text \n",
    "driver.find_elements(By.TAG_NAME, 'tr')[54].text \n",
    "SP_INDEX= driver.find_elements(By.TAG_NAME, 'tr')[51].text.split()\n",
    "SP_TURK= driver.find_elements(By.TAG_NAME, 'tr')[54].text.split()\n",
    "#Con la base de wikipedia, contamos los valores desde el año 2021 al 2011 de forma descendente.\n",
    "indi_demo_sp=SP_INDEX[4:15]\n",
    "indi_demo_turk=SP_TURK[4:15]"
   ]
  },
  {
   "cell_type": "code",
   "execution_count": 77,
   "id": "bf5b99de",
   "metadata": {},
   "outputs": [
    {
     "data": {
      "text/plain": [
       "'24  Spain Flawed democracy 7.94 8.12 8.29 8.08 8.08 8.30 8.30 8.05 8.02 8.02 8.02 8.16 8.45 8.34'"
      ]
     },
     "execution_count": 77,
     "metadata": {},
     "output_type": "execute_result"
    }
   ],
   "source": [
    "driver.find_elements(By.TAG_NAME, 'tr')[51].text"
   ]
  },
  {
   "cell_type": "code",
   "execution_count": 78,
   "id": "edb69832",
   "metadata": {},
   "outputs": [
    {
     "data": {
      "text/plain": [
       "['24',\n",
       " 'Spain',\n",
       " 'Flawed',\n",
       " 'democracy',\n",
       " '7.94',\n",
       " '8.12',\n",
       " '8.29',\n",
       " '8.08',\n",
       " '8.08',\n",
       " '8.30',\n",
       " '8.30',\n",
       " '8.05',\n",
       " '8.02',\n",
       " '8.02',\n",
       " '8.02',\n",
       " '8.16',\n",
       " '8.45',\n",
       " '8.34']"
      ]
     },
     "execution_count": 78,
     "metadata": {},
     "output_type": "execute_result"
    }
   ],
   "source": [
    "driver.find_elements(By.TAG_NAME, 'tr')[51].text.split()"
   ]
  },
  {
   "cell_type": "code",
   "execution_count": 79,
   "id": "cdd8c468",
   "metadata": {},
   "outputs": [],
   "source": [
    "SP_INDEX= driver.find_elements(By.TAG_NAME, 'tr')[51].text.split()"
   ]
  },
  {
   "cell_type": "code",
   "execution_count": 80,
   "id": "f35e5940",
   "metadata": {},
   "outputs": [],
   "source": [
    "indi_demo_sp=SP_INDEX[4:15]"
   ]
  },
  {
   "cell_type": "code",
   "execution_count": 81,
   "id": "f0bf78d1",
   "metadata": {},
   "outputs": [
    {
     "data": {
      "text/plain": [
       "['7.94',\n",
       " '8.12',\n",
       " '8.29',\n",
       " '8.08',\n",
       " '8.08',\n",
       " '8.30',\n",
       " '8.30',\n",
       " '8.05',\n",
       " '8.02',\n",
       " '8.02',\n",
       " '8.02']"
      ]
     },
     "execution_count": 81,
     "metadata": {},
     "output_type": "execute_result"
    }
   ],
   "source": [
    "indi_demo_sp"
   ]
  },
  {
   "cell_type": "code",
   "execution_count": 82,
   "id": "999fdb4d",
   "metadata": {},
   "outputs": [
    {
     "data": {
      "text/plain": [
       "['4.35',\n",
       " '4.48',\n",
       " '4.09',\n",
       " '4.37',\n",
       " '4.88',\n",
       " '5.04',\n",
       " '5.12',\n",
       " '5.12',\n",
       " '5.63',\n",
       " '5.76',\n",
       " '5.73']"
      ]
     },
     "execution_count": 82,
     "metadata": {},
     "output_type": "execute_result"
    }
   ],
   "source": [
    "indi_demo_turk"
   ]
  },
  {
   "cell_type": "code",
   "execution_count": 83,
   "id": "84fba7c8",
   "metadata": {},
   "outputs": [],
   "source": [
    "driver.quit()"
   ]
  },
  {
   "cell_type": "code",
   "execution_count": 84,
   "id": "f2a8e7da",
   "metadata": {},
   "outputs": [],
   "source": [
    "writelstcsv([str(i) for i in indi_demo_sp],'spdemoindex.csv')"
   ]
  },
  {
   "cell_type": "code",
   "execution_count": 85,
   "id": "c86a0be7",
   "metadata": {},
   "outputs": [],
   "source": [
    "writelstcsv([str(i) for i in indi_demo_turk],'turkdemoindex.csv')"
   ]
  }
 ],
 "metadata": {
  "kernelspec": {
   "display_name": "Python 3.9.12 ('base')",
   "language": "python",
   "name": "python3"
  },
  "language_info": {
   "codemirror_mode": {
    "name": "ipython",
    "version": 3
   },
   "file_extension": ".py",
   "mimetype": "text/x-python",
   "name": "python",
   "nbconvert_exporter": "python",
   "pygments_lexer": "ipython3",
   "version": "3.9.12"
  },
  "vscode": {
   "interpreter": {
    "hash": "ad2bdc8ecc057115af97d19610ffacc2b4e99fae6737bb82f5d7fb13d2f2c186"
   }
  }
 },
 "nbformat": 4,
 "nbformat_minor": 5
}
