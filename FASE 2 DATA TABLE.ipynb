{
 "cells": [
  {
   "cell_type": "markdown",
   "id": "8acf3d76",
   "metadata": {},
   "source": [
    "# FASE 2 DATA TABLE"
   ]
  },
  {
   "cell_type": "markdown",
   "id": "9a29b9b6",
   "metadata": {},
   "source": [
    "## Índice\n",
    "\n",
    "### 1.Introducción, hipótesis de trabajo y objetivos (en el otro archivo)\n",
    "\n",
    "\n",
    "### 2.Fase 1: Minería de datos (en el otro archivo)\n",
    "\n",
    "    2.1. IPC español y turco (Selenium)\n",
    "    2.2. Valores de la Lira y el euro en la década 2011-2021(API)\n",
    "    2.3. Índice de democracia (selenium)\n",
    "    \n",
    "### 3.Fase 2: Limpieza y creación de la base de datos.\n"
   ]
  },
  {
   "cell_type": "markdown",
   "id": "933ab67c",
   "metadata": {},
   "source": [
    "## 3. Fase 2: Limpieza y creación de la base de datos.\n",
    "\n",
    "Una vez que los datos han sido recopilados y el número corresponde con el período de 11 años propuesto, nos disponemos a crear tres bases de datos. Para ello, algunos datos, como los del ICP, tienen que ser limpiados. \n",
    "\n",
    "Tras esto, realizaremos las tablas individuales por países, así como la tabla conjunta de comparativas. Finalmente, exportaremos los datos limpios a un formato csv para que sean descargables y trabajables a través del repositorio de Github."
   ]
  },
  {
   "cell_type": "markdown",
   "id": "037406c3",
   "metadata": {},
   "source": [
    "### LIBRERÍAS Y FUNCIONES QUE VAMOS A REQUERIR"
   ]
  },
  {
   "cell_type": "code",
   "execution_count": 1,
   "id": "38bd0ffe",
   "metadata": {},
   "outputs": [],
   "source": [
    "import regex as re\n",
    "import pandas as pd\n",
    "import csv\n",
    "from load import *\n",
    "from limpieza_enriquecimiento import *"
   ]
  },
  {
   "cell_type": "code",
   "execution_count": 2,
   "id": "7c587b78",
   "metadata": {},
   "outputs": [],
   "source": [
    "# VAMOS A IMPORTAR EN LISTAS LOS VALORES QUE HEMOS GUARDADO EN CSV. Los que requieran cambiar el tipo de dato a float lo haremos\n",
    "#en esta fase"
   ]
  },
  {
   "cell_type": "code",
   "execution_count": 3,
   "id": "fbcb3e86",
   "metadata": {},
   "outputs": [],
   "source": [
    "sp_ipc=[]\n",
    "turk_ipc=[]\n",
    "sp_eur_currency=[]\n",
    "turk_try_currency=[]\n",
    "sp_index_demo=[]\n",
    "turk_index_demo=[]"
   ]
  },
  {
   "cell_type": "code",
   "execution_count": 4,
   "id": "c357823d",
   "metadata": {},
   "outputs": [
    {
     "data": {
      "text/plain": [
       "['IPC España 2021 6, 55 %',\n",
       " 'IPC España 2020 -0, 53 %',\n",
       " 'IPC España 2019 0, 79 %',\n",
       " 'IPC España 2018 1, 18 %',\n",
       " 'IPC España 2017 1, 11 %',\n",
       " 'IPC España 2016 1, 57 %',\n",
       " 'IPC España 2015 0, 02 %',\n",
       " 'IPC España 2014 -1, 04 %',\n",
       " 'IPC España 2013 0, 25 %',\n",
       " 'IPC España 2012 2, 87 %',\n",
       " 'IPC España 2011 2, 38 %']"
      ]
     },
     "execution_count": 4,
     "metadata": {},
     "output_type": "execute_result"
    }
   ],
   "source": [
    "opencsv('sp_ipc.csv', sp_ipc)"
   ]
  },
  {
   "cell_type": "code",
   "execution_count": 5,
   "id": "8e37a8ce",
   "metadata": {},
   "outputs": [
    {
     "data": {
      "text/plain": [
       "['IPC Turquía 2021 36, 08 %',\n",
       " 'IPC Turquía 2020 14, 60 %',\n",
       " 'IPC Turquía 2019 11, 84 %',\n",
       " 'IPC Turquía 2018 20, 30 %',\n",
       " 'IPC Turquía 2017 11, 92 %',\n",
       " 'IPC Turquía 2016 8, 53 %',\n",
       " 'IPC Turquía 2015 8, 81 %',\n",
       " 'IPC Turquía 2014 8, 17 %',\n",
       " 'IPC Turquía 2013 7, 40 %',\n",
       " 'IPC Turquía 2012 6, 16 %',\n",
       " 'IPC Turquía 2011 10, 45 %']"
      ]
     },
     "execution_count": 5,
     "metadata": {},
     "output_type": "execute_result"
    }
   ],
   "source": [
    "opencsv('turk_ipc.csv', turk_ipc)"
   ]
  },
  {
   "cell_type": "code",
   "execution_count": 6,
   "id": "fcc6cca1",
   "metadata": {},
   "outputs": [
    {
     "data": {
      "text/plain": [
       "['9.055228',\n",
       " '6.671838',\n",
       " '6.062554',\n",
       " '4.556361',\n",
       " '3.724482',\n",
       " '3.167202',\n",
       " '2.822841',\n",
       " '2.950645',\n",
       " '2.356776',\n",
       " '2.446434',\n",
       " '2.061718']"
      ]
     },
     "execution_count": 6,
     "metadata": {},
     "output_type": "execute_result"
    }
   ],
   "source": [
    "opencsv('try_eu_currency.csv', sp_eur_currency)"
   ]
  },
  {
   "cell_type": "code",
   "execution_count": 7,
   "id": "10947a4e",
   "metadata": {},
   "outputs": [
    {
     "data": {
      "text/plain": [
       "['0.110433',\n",
       " '0.149884',\n",
       " '0.164947',\n",
       " '0.219473',\n",
       " '0.268494',\n",
       " '0.315736',\n",
       " '0.354253',\n",
       " '0.338909',\n",
       " '0.424308',\n",
       " '0.408758',\n",
       " '0.485032']"
      ]
     },
     "execution_count": 7,
     "metadata": {},
     "output_type": "execute_result"
    }
   ],
   "source": [
    "opencsv('eu_try_currency.csv', turk_try_currency)"
   ]
  },
  {
   "cell_type": "code",
   "execution_count": 8,
   "id": "8e1bac75",
   "metadata": {},
   "outputs": [
    {
     "data": {
      "text/plain": [
       "['7.94',\n",
       " '8.12',\n",
       " '8.29',\n",
       " '8.08',\n",
       " '8.08',\n",
       " '8.30',\n",
       " '8.30',\n",
       " '8.05',\n",
       " '8.02',\n",
       " '8.02',\n",
       " '8.02']"
      ]
     },
     "execution_count": 8,
     "metadata": {},
     "output_type": "execute_result"
    }
   ],
   "source": [
    "opencsv('spdemoindex.csv', sp_index_demo)"
   ]
  },
  {
   "cell_type": "code",
   "execution_count": 9,
   "id": "ea19c6ef",
   "metadata": {},
   "outputs": [
    {
     "data": {
      "text/plain": [
       "['4.35',\n",
       " '4.48',\n",
       " '4.09',\n",
       " '4.37',\n",
       " '4.88',\n",
       " '5.04',\n",
       " '5.12',\n",
       " '5.12',\n",
       " '5.63',\n",
       " '5.76',\n",
       " '5.73']"
      ]
     },
     "execution_count": 9,
     "metadata": {},
     "output_type": "execute_result"
    }
   ],
   "source": [
    "opencsv('turkdemoindex.csv', turk_index_demo)"
   ]
  },
  {
   "cell_type": "code",
   "execution_count": 10,
   "id": "6e8cee73",
   "metadata": {},
   "outputs": [
    {
     "data": {
      "text/plain": [
       "'\\nsp_ipc\\nturk_ipc\\nsp_eur_currency\\nturk_try_currency\\nsp_index_demo\\nturk_index_demo\\n'"
      ]
     },
     "execution_count": 10,
     "metadata": {},
     "output_type": "execute_result"
    }
   ],
   "source": [
    "'''\n",
    "sp_ipc\n",
    "turk_ipc\n",
    "sp_eur_currency\n",
    "turk_try_currency\n",
    "sp_index_demo\n",
    "turk_index_demo\n",
    "'''"
   ]
  },
  {
   "cell_type": "code",
   "execution_count": 11,
   "id": "4221d93d",
   "metadata": {},
   "outputs": [],
   "source": [
    "sp_ipc= resubs('IPC España 20\\S+ ',sp_ipc)"
   ]
  },
  {
   "cell_type": "code",
   "execution_count": 12,
   "id": "d5b9d7f5",
   "metadata": {},
   "outputs": [
    {
     "data": {
      "text/plain": [
       "['6, 55 %',\n",
       " '-0, 53 %',\n",
       " '0, 79 %',\n",
       " '1, 18 %',\n",
       " '1, 11 %',\n",
       " '1, 57 %',\n",
       " '0, 02 %',\n",
       " '-1, 04 %',\n",
       " '0, 25 %',\n",
       " '2, 87 %',\n",
       " '2, 38 %']"
      ]
     },
     "execution_count": 12,
     "metadata": {},
     "output_type": "execute_result"
    }
   ],
   "source": [
    "sp_ipc"
   ]
  },
  {
   "cell_type": "code",
   "execution_count": 13,
   "id": "6769877c",
   "metadata": {},
   "outputs": [
    {
     "name": "stdout",
     "output_type": "stream",
     "text": [
      "[36.08, 14.6, 11.84, 20.3, 11.92, 8.53, 8.81, 8.17, 7.4, 6.16, 10.45]\n"
     ]
    }
   ],
   "source": [
    "turk_ipc= resubs('IPC Turquía 20\\S+ ',turk_ipc)\n",
    "turk_ipc[0].replace('%', '').strip(' ')\n",
    "turk_ipc_clean=[i.replace('%', '').strip(' ') for i in turk_ipc]\n",
    "turk= resubs(' ',turk_ipc_clean)\n",
    "turk1= [re.sub(',', '.', i) for i in turk]\n",
    "turk_ipc_clean_float=[float(i) for i in turk1]\n",
    "print(turk_ipc_clean_float)"
   ]
  },
  {
   "cell_type": "code",
   "execution_count": 14,
   "id": "9fdcffee",
   "metadata": {},
   "outputs": [
    {
     "name": "stdout",
     "output_type": "stream",
     "text": [
      "[6.55, -0.53, 0.79, 1.18, 1.11, 1.57, 0.02, -1.04, 0.25, 2.87, 2.38]\n"
     ]
    }
   ],
   "source": [
    "sp_ipc= resubs('IPC España 20\\S+ ',sp_ipc)\n",
    "sp_ipc[0].replace('%', '').strip(' ')\n",
    "sp_ipc_clean=[i.replace('%', '').strip(' ') for i in sp_ipc]\n",
    "sp= resubs(' ',sp_ipc_clean)\n",
    "sp1= [re.sub(',', '.', i) for i in sp]\n",
    "sp_ipc_clean_float=[float(i) for i in sp1]\n",
    "print(sp_ipc_clean_float)"
   ]
  },
  {
   "cell_type": "code",
   "execution_count": 15,
   "id": "6a77f759",
   "metadata": {},
   "outputs": [],
   "source": [
    "sp_eur_currency_float= [float(i) for i in sp_eur_currency]"
   ]
  },
  {
   "cell_type": "code",
   "execution_count": 16,
   "id": "d29745dd",
   "metadata": {},
   "outputs": [],
   "source": [
    "turk_try_currency_float= [float(i) for i in turk_try_currency]"
   ]
  },
  {
   "cell_type": "code",
   "execution_count": 17,
   "id": "e35de95b",
   "metadata": {},
   "outputs": [],
   "source": [
    "sp_index_demo_float= [float(i) for i in sp_index_demo] "
   ]
  },
  {
   "cell_type": "code",
   "execution_count": 18,
   "id": "5d2323cb",
   "metadata": {},
   "outputs": [],
   "source": [
    "turk_index_demo_float= [float(i) for i in turk_index_demo]"
   ]
  },
  {
   "cell_type": "code",
   "execution_count": 19,
   "id": "676e4bbb",
   "metadata": {},
   "outputs": [],
   "source": [
    "cronology=[2021, 2020, 2019, 2018, 2017, 2016, 2015, 2014, 2013,2012,2011]"
   ]
  },
  {
   "cell_type": "code",
   "execution_count": 20,
   "id": "256884b2",
   "metadata": {},
   "outputs": [],
   "source": [
    "data_dicc_sp={'euro currency vs Lira':turk_try_currency_float,\n",
    "             'Spain IPC':sp_ipc_clean_float,\n",
    "             'Spain democracy index':sp_index_demo_float}"
   ]
  },
  {
   "cell_type": "code",
   "execution_count": 21,
   "id": "13e54afa",
   "metadata": {},
   "outputs": [],
   "source": [
    "SP_DF= pd.DataFrame(data_dicc_sp, index=cronology)"
   ]
  },
  {
   "cell_type": "code",
   "execution_count": 22,
   "id": "1afc5f8e",
   "metadata": {},
   "outputs": [
    {
     "data": {
      "text/html": [
       "<div>\n",
       "<style scoped>\n",
       "    .dataframe tbody tr th:only-of-type {\n",
       "        vertical-align: middle;\n",
       "    }\n",
       "\n",
       "    .dataframe tbody tr th {\n",
       "        vertical-align: top;\n",
       "    }\n",
       "\n",
       "    .dataframe thead th {\n",
       "        text-align: right;\n",
       "    }\n",
       "</style>\n",
       "<table border=\"1\" class=\"dataframe\">\n",
       "  <thead>\n",
       "    <tr style=\"text-align: right;\">\n",
       "      <th></th>\n",
       "      <th>euro currency vs Lira</th>\n",
       "      <th>Spain IPC</th>\n",
       "      <th>Spain democracy index</th>\n",
       "    </tr>\n",
       "  </thead>\n",
       "  <tbody>\n",
       "    <tr>\n",
       "      <th>2021</th>\n",
       "      <td>0.110433</td>\n",
       "      <td>6.55</td>\n",
       "      <td>7.94</td>\n",
       "    </tr>\n",
       "    <tr>\n",
       "      <th>2020</th>\n",
       "      <td>0.149884</td>\n",
       "      <td>-0.53</td>\n",
       "      <td>8.12</td>\n",
       "    </tr>\n",
       "    <tr>\n",
       "      <th>2019</th>\n",
       "      <td>0.164947</td>\n",
       "      <td>0.79</td>\n",
       "      <td>8.29</td>\n",
       "    </tr>\n",
       "    <tr>\n",
       "      <th>2018</th>\n",
       "      <td>0.219473</td>\n",
       "      <td>1.18</td>\n",
       "      <td>8.08</td>\n",
       "    </tr>\n",
       "    <tr>\n",
       "      <th>2017</th>\n",
       "      <td>0.268494</td>\n",
       "      <td>1.11</td>\n",
       "      <td>8.08</td>\n",
       "    </tr>\n",
       "    <tr>\n",
       "      <th>2016</th>\n",
       "      <td>0.315736</td>\n",
       "      <td>1.57</td>\n",
       "      <td>8.30</td>\n",
       "    </tr>\n",
       "    <tr>\n",
       "      <th>2015</th>\n",
       "      <td>0.354253</td>\n",
       "      <td>0.02</td>\n",
       "      <td>8.30</td>\n",
       "    </tr>\n",
       "    <tr>\n",
       "      <th>2014</th>\n",
       "      <td>0.338909</td>\n",
       "      <td>-1.04</td>\n",
       "      <td>8.05</td>\n",
       "    </tr>\n",
       "    <tr>\n",
       "      <th>2013</th>\n",
       "      <td>0.424308</td>\n",
       "      <td>0.25</td>\n",
       "      <td>8.02</td>\n",
       "    </tr>\n",
       "    <tr>\n",
       "      <th>2012</th>\n",
       "      <td>0.408758</td>\n",
       "      <td>2.87</td>\n",
       "      <td>8.02</td>\n",
       "    </tr>\n",
       "    <tr>\n",
       "      <th>2011</th>\n",
       "      <td>0.485032</td>\n",
       "      <td>2.38</td>\n",
       "      <td>8.02</td>\n",
       "    </tr>\n",
       "  </tbody>\n",
       "</table>\n",
       "</div>"
      ],
      "text/plain": [
       "      euro currency vs Lira  Spain IPC  Spain democracy index\n",
       "2021               0.110433       6.55                   7.94\n",
       "2020               0.149884      -0.53                   8.12\n",
       "2019               0.164947       0.79                   8.29\n",
       "2018               0.219473       1.18                   8.08\n",
       "2017               0.268494       1.11                   8.08\n",
       "2016               0.315736       1.57                   8.30\n",
       "2015               0.354253       0.02                   8.30\n",
       "2014               0.338909      -1.04                   8.05\n",
       "2013               0.424308       0.25                   8.02\n",
       "2012               0.408758       2.87                   8.02\n",
       "2011               0.485032       2.38                   8.02"
      ]
     },
     "execution_count": 22,
     "metadata": {},
     "output_type": "execute_result"
    }
   ],
   "source": [
    "SP_DF"
   ]
  },
  {
   "cell_type": "code",
   "execution_count": 39,
   "id": "c15ccf92",
   "metadata": {},
   "outputs": [],
   "source": [
    "SP_DF.to_csv('SP_DF.csv', encoding='utf-8')"
   ]
  },
  {
   "cell_type": "code",
   "execution_count": 24,
   "id": "6ae64fa7",
   "metadata": {},
   "outputs": [],
   "source": [
    "data_dicc_turk={'Lira currency vs euro':sp_eur_currency_float,\n",
    "             'Turkey IPC':turk_ipc_clean_float,\n",
    "             'Turkey democracy index':turk_index_demo_float}"
   ]
  },
  {
   "cell_type": "code",
   "execution_count": 25,
   "id": "f2a8951c",
   "metadata": {},
   "outputs": [],
   "source": [
    "TURK_DF= pd.DataFrame(data_dicc_turk, index=cronology)"
   ]
  },
  {
   "cell_type": "code",
   "execution_count": 26,
   "id": "014ed358",
   "metadata": {},
   "outputs": [
    {
     "data": {
      "text/html": [
       "<div>\n",
       "<style scoped>\n",
       "    .dataframe tbody tr th:only-of-type {\n",
       "        vertical-align: middle;\n",
       "    }\n",
       "\n",
       "    .dataframe tbody tr th {\n",
       "        vertical-align: top;\n",
       "    }\n",
       "\n",
       "    .dataframe thead th {\n",
       "        text-align: right;\n",
       "    }\n",
       "</style>\n",
       "<table border=\"1\" class=\"dataframe\">\n",
       "  <thead>\n",
       "    <tr style=\"text-align: right;\">\n",
       "      <th></th>\n",
       "      <th>Lira currency vs euro</th>\n",
       "      <th>Turkey IPC</th>\n",
       "      <th>Turkey democracy index</th>\n",
       "    </tr>\n",
       "  </thead>\n",
       "  <tbody>\n",
       "    <tr>\n",
       "      <th>2021</th>\n",
       "      <td>9.055228</td>\n",
       "      <td>36.08</td>\n",
       "      <td>4.35</td>\n",
       "    </tr>\n",
       "    <tr>\n",
       "      <th>2020</th>\n",
       "      <td>6.671838</td>\n",
       "      <td>14.60</td>\n",
       "      <td>4.48</td>\n",
       "    </tr>\n",
       "    <tr>\n",
       "      <th>2019</th>\n",
       "      <td>6.062554</td>\n",
       "      <td>11.84</td>\n",
       "      <td>4.09</td>\n",
       "    </tr>\n",
       "    <tr>\n",
       "      <th>2018</th>\n",
       "      <td>4.556361</td>\n",
       "      <td>20.30</td>\n",
       "      <td>4.37</td>\n",
       "    </tr>\n",
       "    <tr>\n",
       "      <th>2017</th>\n",
       "      <td>3.724482</td>\n",
       "      <td>11.92</td>\n",
       "      <td>4.88</td>\n",
       "    </tr>\n",
       "    <tr>\n",
       "      <th>2016</th>\n",
       "      <td>3.167202</td>\n",
       "      <td>8.53</td>\n",
       "      <td>5.04</td>\n",
       "    </tr>\n",
       "    <tr>\n",
       "      <th>2015</th>\n",
       "      <td>2.822841</td>\n",
       "      <td>8.81</td>\n",
       "      <td>5.12</td>\n",
       "    </tr>\n",
       "    <tr>\n",
       "      <th>2014</th>\n",
       "      <td>2.950645</td>\n",
       "      <td>8.17</td>\n",
       "      <td>5.12</td>\n",
       "    </tr>\n",
       "    <tr>\n",
       "      <th>2013</th>\n",
       "      <td>2.356776</td>\n",
       "      <td>7.40</td>\n",
       "      <td>5.63</td>\n",
       "    </tr>\n",
       "    <tr>\n",
       "      <th>2012</th>\n",
       "      <td>2.446434</td>\n",
       "      <td>6.16</td>\n",
       "      <td>5.76</td>\n",
       "    </tr>\n",
       "    <tr>\n",
       "      <th>2011</th>\n",
       "      <td>2.061718</td>\n",
       "      <td>10.45</td>\n",
       "      <td>5.73</td>\n",
       "    </tr>\n",
       "  </tbody>\n",
       "</table>\n",
       "</div>"
      ],
      "text/plain": [
       "      Lira currency vs euro  Turkey IPC  Turkey democracy index\n",
       "2021               9.055228       36.08                    4.35\n",
       "2020               6.671838       14.60                    4.48\n",
       "2019               6.062554       11.84                    4.09\n",
       "2018               4.556361       20.30                    4.37\n",
       "2017               3.724482       11.92                    4.88\n",
       "2016               3.167202        8.53                    5.04\n",
       "2015               2.822841        8.81                    5.12\n",
       "2014               2.950645        8.17                    5.12\n",
       "2013               2.356776        7.40                    5.63\n",
       "2012               2.446434        6.16                    5.76\n",
       "2011               2.061718       10.45                    5.73"
      ]
     },
     "execution_count": 26,
     "metadata": {},
     "output_type": "execute_result"
    }
   ],
   "source": [
    "TURK_DF"
   ]
  },
  {
   "cell_type": "code",
   "execution_count": 38,
   "id": "f212988e",
   "metadata": {},
   "outputs": [],
   "source": [
    "TURK_DF.to_csv('TURK_DF.csv', encoding='utf-8')"
   ]
  },
  {
   "cell_type": "code",
   "execution_count": 28,
   "id": "e936bb9c",
   "metadata": {},
   "outputs": [],
   "source": [
    "COM_DF= pd.merge(left=SP_DF, right=TURK_DF, how= 'inner', left_index= True, right_index=True)"
   ]
  },
  {
   "cell_type": "code",
   "execution_count": 29,
   "id": "b8be7427",
   "metadata": {},
   "outputs": [
    {
     "data": {
      "text/plain": [
       "Index(['euro currency vs Lira', 'Spain IPC', 'Spain democracy index',\n",
       "       'Lira currency vs euro', 'Turkey IPC', 'Turkey democracy index'],\n",
       "      dtype='object')"
      ]
     },
     "execution_count": 29,
     "metadata": {},
     "output_type": "execute_result"
    }
   ],
   "source": [
    "COM_DF.columns"
   ]
  },
  {
   "cell_type": "code",
   "execution_count": 30,
   "id": "df29e022",
   "metadata": {},
   "outputs": [],
   "source": [
    "Combinated_DF= COM_DF.iloc[:, [0,3,1,4,2,5]]"
   ]
  },
  {
   "cell_type": "code",
   "execution_count": 31,
   "id": "b378a884",
   "metadata": {},
   "outputs": [
    {
     "data": {
      "text/html": [
       "<div>\n",
       "<style scoped>\n",
       "    .dataframe tbody tr th:only-of-type {\n",
       "        vertical-align: middle;\n",
       "    }\n",
       "\n",
       "    .dataframe tbody tr th {\n",
       "        vertical-align: top;\n",
       "    }\n",
       "\n",
       "    .dataframe thead th {\n",
       "        text-align: right;\n",
       "    }\n",
       "</style>\n",
       "<table border=\"1\" class=\"dataframe\">\n",
       "  <thead>\n",
       "    <tr style=\"text-align: right;\">\n",
       "      <th></th>\n",
       "      <th>euro currency vs Lira</th>\n",
       "      <th>Lira currency vs euro</th>\n",
       "      <th>Spain IPC</th>\n",
       "      <th>Turkey IPC</th>\n",
       "      <th>Spain democracy index</th>\n",
       "      <th>Turkey democracy index</th>\n",
       "    </tr>\n",
       "  </thead>\n",
       "  <tbody>\n",
       "    <tr>\n",
       "      <th>2021</th>\n",
       "      <td>0.110433</td>\n",
       "      <td>9.055228</td>\n",
       "      <td>6.55</td>\n",
       "      <td>36.08</td>\n",
       "      <td>7.94</td>\n",
       "      <td>4.35</td>\n",
       "    </tr>\n",
       "    <tr>\n",
       "      <th>2020</th>\n",
       "      <td>0.149884</td>\n",
       "      <td>6.671838</td>\n",
       "      <td>-0.53</td>\n",
       "      <td>14.60</td>\n",
       "      <td>8.12</td>\n",
       "      <td>4.48</td>\n",
       "    </tr>\n",
       "    <tr>\n",
       "      <th>2019</th>\n",
       "      <td>0.164947</td>\n",
       "      <td>6.062554</td>\n",
       "      <td>0.79</td>\n",
       "      <td>11.84</td>\n",
       "      <td>8.29</td>\n",
       "      <td>4.09</td>\n",
       "    </tr>\n",
       "    <tr>\n",
       "      <th>2018</th>\n",
       "      <td>0.219473</td>\n",
       "      <td>4.556361</td>\n",
       "      <td>1.18</td>\n",
       "      <td>20.30</td>\n",
       "      <td>8.08</td>\n",
       "      <td>4.37</td>\n",
       "    </tr>\n",
       "    <tr>\n",
       "      <th>2017</th>\n",
       "      <td>0.268494</td>\n",
       "      <td>3.724482</td>\n",
       "      <td>1.11</td>\n",
       "      <td>11.92</td>\n",
       "      <td>8.08</td>\n",
       "      <td>4.88</td>\n",
       "    </tr>\n",
       "    <tr>\n",
       "      <th>2016</th>\n",
       "      <td>0.315736</td>\n",
       "      <td>3.167202</td>\n",
       "      <td>1.57</td>\n",
       "      <td>8.53</td>\n",
       "      <td>8.30</td>\n",
       "      <td>5.04</td>\n",
       "    </tr>\n",
       "    <tr>\n",
       "      <th>2015</th>\n",
       "      <td>0.354253</td>\n",
       "      <td>2.822841</td>\n",
       "      <td>0.02</td>\n",
       "      <td>8.81</td>\n",
       "      <td>8.30</td>\n",
       "      <td>5.12</td>\n",
       "    </tr>\n",
       "    <tr>\n",
       "      <th>2014</th>\n",
       "      <td>0.338909</td>\n",
       "      <td>2.950645</td>\n",
       "      <td>-1.04</td>\n",
       "      <td>8.17</td>\n",
       "      <td>8.05</td>\n",
       "      <td>5.12</td>\n",
       "    </tr>\n",
       "    <tr>\n",
       "      <th>2013</th>\n",
       "      <td>0.424308</td>\n",
       "      <td>2.356776</td>\n",
       "      <td>0.25</td>\n",
       "      <td>7.40</td>\n",
       "      <td>8.02</td>\n",
       "      <td>5.63</td>\n",
       "    </tr>\n",
       "    <tr>\n",
       "      <th>2012</th>\n",
       "      <td>0.408758</td>\n",
       "      <td>2.446434</td>\n",
       "      <td>2.87</td>\n",
       "      <td>6.16</td>\n",
       "      <td>8.02</td>\n",
       "      <td>5.76</td>\n",
       "    </tr>\n",
       "    <tr>\n",
       "      <th>2011</th>\n",
       "      <td>0.485032</td>\n",
       "      <td>2.061718</td>\n",
       "      <td>2.38</td>\n",
       "      <td>10.45</td>\n",
       "      <td>8.02</td>\n",
       "      <td>5.73</td>\n",
       "    </tr>\n",
       "  </tbody>\n",
       "</table>\n",
       "</div>"
      ],
      "text/plain": [
       "      euro currency vs Lira  Lira currency vs euro  Spain IPC  Turkey IPC  \\\n",
       "2021               0.110433               9.055228       6.55       36.08   \n",
       "2020               0.149884               6.671838      -0.53       14.60   \n",
       "2019               0.164947               6.062554       0.79       11.84   \n",
       "2018               0.219473               4.556361       1.18       20.30   \n",
       "2017               0.268494               3.724482       1.11       11.92   \n",
       "2016               0.315736               3.167202       1.57        8.53   \n",
       "2015               0.354253               2.822841       0.02        8.81   \n",
       "2014               0.338909               2.950645      -1.04        8.17   \n",
       "2013               0.424308               2.356776       0.25        7.40   \n",
       "2012               0.408758               2.446434       2.87        6.16   \n",
       "2011               0.485032               2.061718       2.38       10.45   \n",
       "\n",
       "      Spain democracy index  Turkey democracy index  \n",
       "2021                   7.94                    4.35  \n",
       "2020                   8.12                    4.48  \n",
       "2019                   8.29                    4.09  \n",
       "2018                   8.08                    4.37  \n",
       "2017                   8.08                    4.88  \n",
       "2016                   8.30                    5.04  \n",
       "2015                   8.30                    5.12  \n",
       "2014                   8.05                    5.12  \n",
       "2013                   8.02                    5.63  \n",
       "2012                   8.02                    5.76  \n",
       "2011                   8.02                    5.73  "
      ]
     },
     "execution_count": 31,
     "metadata": {},
     "output_type": "execute_result"
    }
   ],
   "source": [
    "Combinated_DF"
   ]
  },
  {
   "cell_type": "code",
   "execution_count": 37,
   "id": "98c04a18",
   "metadata": {},
   "outputs": [],
   "source": [
    "Combinated_DF.to_csv('Combinated_DF.csv', encoding='utf-8')"
   ]
  }
 ],
 "metadata": {
  "kernelspec": {
   "display_name": "Python 3.9.12 ('base')",
   "language": "python",
   "name": "python3"
  },
  "language_info": {
   "codemirror_mode": {
    "name": "ipython",
    "version": 3
   },
   "file_extension": ".py",
   "mimetype": "text/x-python",
   "name": "python",
   "nbconvert_exporter": "python",
   "pygments_lexer": "ipython3",
   "version": "3.9.12"
  },
  "vscode": {
   "interpreter": {
    "hash": "ad2bdc8ecc057115af97d19610ffacc2b4e99fae6737bb82f5d7fb13d2f2c186"
   }
  }
 },
 "nbformat": 4,
 "nbformat_minor": 5
}
